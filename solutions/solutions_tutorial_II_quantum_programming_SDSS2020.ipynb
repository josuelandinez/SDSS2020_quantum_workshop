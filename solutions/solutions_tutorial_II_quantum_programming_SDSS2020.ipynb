{
  "nbformat": 4,
  "nbformat_minor": 0,
  "metadata": {
    "kernelspec": {
      "display_name": "Python 3",
      "language": "python",
      "name": "python3"
    },
    "language_info": {
      "codemirror_mode": {
        "name": "ipython",
        "version": 3
      },
      "file_extension": ".py",
      "mimetype": "text/x-python",
      "name": "python",
      "nbconvert_exporter": "python",
      "pygments_lexer": "ipython3",
      "version": "3.6.5"
    },
    "colab": {
      "name": "solutions_tutorial_II_quantum_programming_SDSS2020.ipynb",
      "provenance": [],
      "include_colab_link": true
    }
  },
  "cells": [
    {
      "cell_type": "markdown",
      "metadata": {
        "id": "view-in-github",
        "colab_type": "text"
      },
      "source": [
        "<a href=\"https://colab.research.google.com/github/markf94/SDSS2020_quantum_workshop/blob/master/solutions/solutions_tutorial_II_quantum_programming_SDSS2020.ipynb\" target=\"_parent\"><img src=\"https://colab.research.google.com/assets/colab-badge.svg\" alt=\"Open In Colab\"/></a>"
      ]
    },
    {
      "cell_type": "markdown",
      "metadata": {
        "id": "c-63P7sQhmcW",
        "colab_type": "text"
      },
      "source": [
        "# Solutions Tutorial 2: Quantum programming in PyQuil"
      ]
    },
    {
      "cell_type": "markdown",
      "metadata": {
        "id": "p35tMk30hmcZ",
        "colab_type": "text"
      },
      "source": [
        "##### After going through this 1 hour tutorial you will:\n",
        "\n",
        "- be able to use pyQuil to create shallow circuits\n",
        "- have used pyQuil's wavefunction simulator\n",
        "- have used pyQuil's Quantum Virtual Machine\n",
        "- retrieved QPU specifications\n",
        "- compiled a quantum program to the Aspen-8 QPU"
      ]
    },
    {
      "cell_type": "markdown",
      "metadata": {
        "id": "f9XDqlohis0s",
        "colab_type": "text"
      },
      "source": [
        "First, we need to retrieve the IP address of this Google Colab notebook such that we can authenticate it with the quantum simulator & compiler backend. **PLEASE, send this IP address to your instructor (Mark) such that he can whitelist this IP on the server.**"
      ]
    },
    {
      "cell_type": "code",
      "metadata": {
        "id": "WvpkvM4EiFdh",
        "colab_type": "code",
        "outputId": "78a97801-a334-4cec-d285-41b46c7ce75b",
        "colab": {
          "base_uri": "https://localhost:8080/",
          "height": 34
        }
      },
      "source": [
        "!curl ifconfig.me"
      ],
      "execution_count": 200,
      "outputs": [
        {
          "output_type": "stream",
          "text": [
            "34.73.192.174"
          ],
          "name": "stdout"
        }
      ]
    },
    {
      "cell_type": "markdown",
      "metadata": {
        "id": "2cFwDDJahmcc",
        "colab_type": "text"
      },
      "source": [
        "In the next step, we need to again install pyQuil since we're now in another notebook."
      ]
    },
    {
      "cell_type": "code",
      "metadata": {
        "id": "sPMp-tfChmcf",
        "colab_type": "code",
        "outputId": "61326348-8143-4a18-f80d-b9d699a2bb37",
        "colab": {
          "base_uri": "https://localhost:8080/",
          "height": 332
        }
      },
      "source": [
        "!pip install pyquil"
      ],
      "execution_count": 201,
      "outputs": [
        {
          "output_type": "stream",
          "text": [
            "Requirement already satisfied: pyquil in /usr/local/lib/python3.6/dist-packages (2.19.0)\n",
            "Requirement already satisfied: networkx>=2.0.0 in /usr/local/lib/python3.6/dist-packages (from pyquil) (2.4)\n",
            "Requirement already satisfied: immutables==0.6 in /usr/local/lib/python3.6/dist-packages (from pyquil) (0.6)\n",
            "Requirement already satisfied: rpcq>=3.0.0 in /usr/local/lib/python3.6/dist-packages (from pyquil) (3.3.0)\n",
            "Requirement already satisfied: numpy in /usr/local/lib/python3.6/dist-packages (from pyquil) (1.18.4)\n",
            "Requirement already satisfied: requests in /usr/local/lib/python3.6/dist-packages (from pyquil) (2.23.0)\n",
            "Requirement already satisfied: antlr4-python3-runtime<4.8,>=4.7.2 in /usr/local/lib/python3.6/dist-packages (from pyquil) (4.7.2)\n",
            "Requirement already satisfied: decorator>=4.3.0 in /usr/local/lib/python3.6/dist-packages (from networkx>=2.0.0->pyquil) (4.4.2)\n",
            "Requirement already satisfied: ruamel.yaml in /usr/local/lib/python3.6/dist-packages (from rpcq>=3.0.0->pyquil) (0.16.10)\n",
            "Requirement already satisfied: pyzmq>=17 in /usr/local/lib/python3.6/dist-packages (from rpcq>=3.0.0->pyquil) (19.0.1)\n",
            "Requirement already satisfied: python-rapidjson in /usr/local/lib/python3.6/dist-packages (from rpcq>=3.0.0->pyquil) (0.9.1)\n",
            "Requirement already satisfied: msgpack<1.0,>=0.6 in /usr/local/lib/python3.6/dist-packages (from rpcq>=3.0.0->pyquil) (0.6.2)\n",
            "Requirement already satisfied: idna<3,>=2.5 in /usr/local/lib/python3.6/dist-packages (from requests->pyquil) (2.9)\n",
            "Requirement already satisfied: certifi>=2017.4.17 in /usr/local/lib/python3.6/dist-packages (from requests->pyquil) (2020.4.5.1)\n",
            "Requirement already satisfied: chardet<4,>=3.0.2 in /usr/local/lib/python3.6/dist-packages (from requests->pyquil) (3.0.4)\n",
            "Requirement already satisfied: urllib3!=1.25.0,!=1.25.1,<1.26,>=1.21.1 in /usr/local/lib/python3.6/dist-packages (from requests->pyquil) (1.24.3)\n",
            "Requirement already satisfied: ruamel.yaml.clib>=0.1.2; platform_python_implementation == \"CPython\" and python_version < \"3.9\" in /usr/local/lib/python3.6/dist-packages (from ruamel.yaml->rpcq>=3.0.0->pyquil) (0.2.0)\n"
          ],
          "name": "stdout"
        }
      ]
    },
    {
      "cell_type": "markdown",
      "metadata": {
        "id": "VBmS0HSFhmcx",
        "colab_type": "text"
      },
      "source": [
        "Next we need to make sure that we you are configured to use the Rigetti Quantum Virtual Machine (QVM) simulator and the Quilc compiler."
      ]
    },
    {
      "cell_type": "code",
      "metadata": {
        "id": "ijkfZJtlhmcy",
        "colab_type": "code",
        "colab": {}
      },
      "source": [
        "from pyquil.api import ForestConnection\n",
        "\n",
        "simulator_ip = '34.224.6.31'\n",
        "connection = ForestConnection(sync_endpoint=f'http://{simulator_ip}:5000', compiler_endpoint=f'tcp://{simulator_ip}:5555')"
      ],
      "execution_count": 0,
      "outputs": []
    },
    {
      "cell_type": "markdown",
      "metadata": {
        "id": "Gbq3f0Rlhmdr",
        "colab_type": "text"
      },
      "source": [
        "***\n",
        "## 1. PyQuil"
      ]
    },
    {
      "cell_type": "markdown",
      "metadata": {
        "id": "LSTGIeNthmds",
        "colab_type": "text"
      },
      "source": [
        "PyQuil is the Python layer on top of Quil. You can think of it as a high-level abstraction layer on top of the very basic Quil instruction language. This is similar to how we use Python to program classical computers instead of writing code in low-level assembly language.\n"
      ]
    },
    {
      "cell_type": "markdown",
      "metadata": {
        "id": "VGOVdozHT4oB",
        "colab_type": "text"
      },
      "source": [
        "### Exercise 1.0\n",
        "\n",
        "For our first exploration of PyQuil functionality we will use their `WavefunctionSimulator`. Please make sure to read + understand the first two paragraphs of the [documentation](http://docs.rigetti.com/en/stable/wavefunction_simulator.html#basis-ordering).\n",
        "\n",
        "What differentiates the wavefunction simulator from other simulators and/or the QPU?"
      ]
    },
    {
      "cell_type": "code",
      "metadata": {
        "id": "4hvI0QM4SRBr",
        "colab_type": "code",
        "colab": {}
      },
      "source": [
        "from pyquil.api import WavefunctionSimulator\n",
        "\n",
        "wavefunction_simulator = WavefunctionSimulator(connection=connection)"
      ],
      "execution_count": 0,
      "outputs": []
    },
    {
      "cell_type": "markdown",
      "metadata": {
        "id": "_RXm1Em6hmdw",
        "colab_type": "text"
      },
      "source": [
        "#### Exercise 1.1: \n",
        "Using your knowledge from lecture II and [the pyQuil docs](http://docs.rigetti.com/en/stable/basics.html) express the following Quil code as a `Program` in PyQuil:\n",
        "\n",
        "```\n",
        "X 0\n",
        "X 1\n",
        "H 0\n",
        "CNOT 0 1\n",
        "```\n",
        "\n",
        "Run the resulting PyQuil program 10 times with the `run_and_measure()` method of the `WavefunctionSimulator` and inspect the results."
      ]
    },
    {
      "cell_type": "code",
      "metadata": {
        "id": "4lNZN1Skhmdz",
        "colab_type": "code",
        "outputId": "3b995b31-b1b8-4df7-b93a-5dd1c8ca62a6",
        "colab": {
          "base_uri": "https://localhost:8080/",
          "height": 191
        }
      },
      "source": [
        "from pyquil.quil import Program\n",
        "from pyquil.gates import H, X, CNOT, MEASURE\n",
        "\n",
        "# initialize a pyQuil program that measures the initial qubit state\n",
        "quantum_program = Program()\n",
        "quantum_program += X(0)\n",
        "quantum_program += X(1)\n",
        "quantum_program += CNOT(0, 1)\n",
        "quantum_program += H(0)\n",
        "quantum_program += H(1)\n",
        "\n",
        "# TODO: find out how to get the resulting wavefunction + amplitudes after running the program in the QVM\n",
        "bitstrings = wavefunction_simulator.run_and_measure(quantum_program, trials=10)\n",
        "print(bitstrings)"
      ],
      "execution_count": 204,
      "outputs": [
        {
          "output_type": "stream",
          "text": [
            "[[1 1]\n",
            " [0 1]\n",
            " [0 0]\n",
            " [1 0]\n",
            " [0 0]\n",
            " [0 1]\n",
            " [0 0]\n",
            " [1 1]\n",
            " [1 0]\n",
            " [0 1]]\n"
          ],
          "name": "stdout"
        }
      ]
    },
    {
      "cell_type": "markdown",
      "metadata": {
        "id": "4HTL1lRfhmd8",
        "colab_type": "text"
      },
      "source": [
        "#### Exercise 1.2:\n",
        "\n",
        "pyQuil's Wavefunction has a lot of very helpful functionalities like obtaining probabilities from amplitudes, plotting as well as pretty printing them. \n",
        "\n",
        "Explore pyQuil's wavefunction functionalities. First get the wavefunction of your new `Program` from the previous exercise, then plot and pretty print the probabilities! (Hint: there exists a not-so-well-documented `plot()` method on the `WavefunctionSimulator`)"
      ]
    },
    {
      "cell_type": "code",
      "metadata": {
        "id": "Ahish_Lmhmd9",
        "colab_type": "code",
        "outputId": "ee2d85d5-96d6-463c-a774-440705a6f830",
        "colab": {
          "base_uri": "https://localhost:8080/",
          "height": 404
        }
      },
      "source": [
        "# TODO: Try getting the wavefunction for your quantum program and plot & pretty print the result!\n",
        "\n",
        "wavefunction = wavefunction_simulator.wavefunction(p)\n",
        "\n",
        "print('Plotting the probabilities:')\n",
        "wavefunction.plot()\n",
        "\n",
        "print('Pretty printing the wavefunction: \\n')\n",
        "print(f'{wavefunction.pretty_print()} \\n')\n",
        "\n",
        "print('Pretty printing the probabilities: \\n')\n",
        "print(wavefunction.pretty_print_probabilities())"
      ],
      "execution_count": 205,
      "outputs": [
        {
          "output_type": "stream",
          "text": [
            "Plotting the probabilities:\n"
          ],
          "name": "stdout"
        },
        {
          "output_type": "display_data",
          "data": {
            "image/png": "[encoded data removed]",
            "text/plain": [
              "<Figure size 432x288 with 1 Axes>"
            ]
          },
          "metadata": {
            "tags": [],
            "needs_background": "light"
          }
        },
        {
          "output_type": "stream",
          "text": [
            "Pretty printing the wavefunction: \n",
            "\n",
            "-0.5j|00> + -0.5j|01> + 0.5j|10> + 0.5j|11> \n",
            "\n",
            "Pretty printing the probabilities: \n",
            "\n",
            "{'00': 0.25, '01': 0.25, '10': 0.25, '11': 0.25}\n"
          ],
          "name": "stdout"
        }
      ]
    },
    {
      "cell_type": "markdown",
      "metadata": {
        "id": "N_PaqLmZhmeE",
        "colab_type": "text"
      },
      "source": [
        "***\n",
        "## 2. The Quantum Computer object"
      ]
    },
    {
      "cell_type": "markdown",
      "metadata": {
        "id": "PBvNX08aVgYM",
        "colab_type": "text"
      },
      "source": [
        "In the previous section we were using the `WavefunctionSimulator`. However, unfortunately this simulator is highly unrealistic since in reality we're never (!) able to inspect the wavefunction. We only ever get to measure the wavefunction and sample bitstrings from it. In our effort to program a quantum computer we need to abandon the idea of simulating the wavefunction and simulate the actual interaction with the quantum processor."
      ]
    },
    {
      "cell_type": "markdown",
      "metadata": {
        "id": "g3-OtKXcV9CW",
        "colab_type": "text"
      },
      "source": [
        "To do so, we're going to use the `get_qc()` method which allows us to retrieve a more realistic Quantum Virtual Machine (QVM). For our use cases, a simulator with 4 qubits should suffice:"
      ]
    },
    {
      "cell_type": "code",
      "metadata": {
        "id": "9vyii4BtVgJ7",
        "colab_type": "code",
        "colab": {}
      },
      "source": [
        "from pyquil import get_qc\n",
        "\n",
        "quantum_simulator = get_qc('2q-qvm', connection=connection)"
      ],
      "execution_count": 0,
      "outputs": []
    },
    {
      "cell_type": "markdown",
      "metadata": {
        "id": "Imm71unOhmeI",
        "colab_type": "text"
      },
      "source": [
        "#### Exercise 2.0:\n",
        "\n",
        "Simulate your quantum program from section 1 with the new `quantum_simulator` for 10 trials. What's different?"
      ]
    },
    {
      "cell_type": "code",
      "metadata": {
        "id": "EuNgiOYWhmeJ",
        "colab_type": "code",
        "colab": {}
      },
      "source": [
        "bitstrings = quantum_simulator.run_and_measure(quantum_program, trials=10)"
      ],
      "execution_count": 0,
      "outputs": []
    },
    {
      "cell_type": "markdown",
      "metadata": {
        "id": "8xu9ghDPWmPZ",
        "colab_type": "text"
      },
      "source": [
        "#### Exercise 2.1:\n",
        "\n",
        "The output in the previous exercise was not very readable. Here's a quick way of converting the output into more familiar bitstrings:"
      ]
    },
    {
      "cell_type": "code",
      "metadata": {
        "id": "KKqu0zYlWj59",
        "colab_type": "code",
        "colab": {
          "base_uri": "https://localhost:8080/",
          "height": 191
        },
        "outputId": "5716e7f5-a878-4c44-c39b-40b27f569bbf"
      },
      "source": [
        "import numpy as np\n",
        "\n",
        "bitstring_array = np.vstack([bitstrings[q] for q in quantum_simulator.qubits()]).T\n",
        "print(bitstring_array)"
      ],
      "execution_count": 208,
      "outputs": [
        {
          "output_type": "stream",
          "text": [
            "[[0 0]\n",
            " [0 0]\n",
            " [1 0]\n",
            " [0 0]\n",
            " [1 1]\n",
            " [1 0]\n",
            " [0 1]\n",
            " [1 1]\n",
            " [1 1]\n",
            " [1 1]]\n"
          ],
          "name": "stdout"
        }
      ]
    },
    {
      "cell_type": "markdown",
      "metadata": {
        "id": "yL4qGHCJW_dC",
        "colab_type": "text"
      },
      "source": [
        "Equipped with this new simulator and the function that converts its output to bitstrings perform the following experiment:\n",
        "\n",
        "Run your quantum program for 1000 trials and compute the probability of each bitstring. Compare it with the plotted wavefunction in Exercise 1.2. What do you observe?\n"
      ]
    },
    {
      "cell_type": "code",
      "metadata": {
        "id": "dAKSkAA7W_Gx",
        "colab_type": "code",
        "colab": {
          "base_uri": "https://localhost:8080/",
          "height": 86
        },
        "outputId": "e644e21d-5dbf-4b21-a45b-eeb7e125bcb1"
      },
      "source": [
        "bitstrings = quantum_simulator.run_and_measure(quantum_program, trials=1000)\n",
        "bitstring_array = np.vstack([bitstrings[q] for q in quantum_simulator.qubits()]).T\n",
        "\n",
        "unique_bitstrings, counts = np.unique(bitstring_array, axis=0, return_counts=True)\n",
        "for unique_bitstring, count in zip(unique_bitstrings, counts):\n",
        "  unique_bitstring = np.array(map(str, unique_bitstring))\n",
        "  print(f\"|{''.join(unique_bitstring.tolist())}>: {count/sum(counts)}\")"
      ],
      "execution_count": 209,
      "outputs": [
        {
          "output_type": "stream",
          "text": [
            "|00>: 0.247\n",
            "|01>: 0.236\n",
            "|10>: 0.24\n",
            "|11>: 0.277\n"
          ],
          "name": "stdout"
        }
      ]
    },
    {
      "cell_type": "markdown",
      "metadata": {
        "id": "GCgOW9_BEOaE",
        "colab_type": "text"
      },
      "source": [
        "***\n",
        "## 3. The Quantum Processing Unit (QPU)"
      ]
    },
    {
      "cell_type": "markdown",
      "metadata": {
        "id": "b3hnc-v9aIFT",
        "colab_type": "text"
      },
      "source": [
        "Moving away from simulators this section will teach you how to interact with the Rigetti *QPU*. First, using the `list_quantum_computers()` function we can retrieve the currently available QPUs:"
      ]
    },
    {
      "cell_type": "code",
      "metadata": {
        "id": "6EPSUbEgackD",
        "colab_type": "code",
        "colab": {
          "base_uri": "https://localhost:8080/",
          "height": 34
        },
        "outputId": "a86f8a43-99c8-4028-bed9-950b88ed689b"
      },
      "source": [
        "from pyquil import list_quantum_computers\n",
        "\n",
        "print(list_quantum_computers())"
      ],
      "execution_count": 210,
      "outputs": [
        {
          "output_type": "stream",
          "text": [
            "['Aspen-8', 'Aspen-4', '9q-square-qvm', '9q-square-noisy-qvm']\n"
          ],
          "name": "stdout"
        }
      ]
    },
    {
      "cell_type": "markdown",
      "metadata": {
        "id": "0O-zidj_acZ2",
        "colab_type": "text"
      },
      "source": [
        "#### Exercise 3.0:\n",
        "\n",
        "Retrieve the topology of the `Aspen-8` QPU and plot it with `networkx.draw()`. What do you observe?"
      ]
    },
    {
      "cell_type": "code",
      "metadata": {
        "id": "im5-BJ5HIhOK",
        "colab_type": "code",
        "colab": {
          "base_uri": "https://localhost:8080/",
          "height": 374
        },
        "outputId": "e7a23a67-e28f-4aef-c417-495a4d6dcda9"
      },
      "source": [
        "import networkx\n",
        "\n",
        "aspen8 = get_qc('Aspen-8')\n",
        "qpu_topology = aspen8.qubit_topology()\n",
        "\n",
        "networkx.draw(qpu_topology, with_labels=True, font_weight='bold')"
      ],
      "execution_count": 211,
      "outputs": [
        {
          "output_type": "stream",
          "text": [
            "/usr/local/lib/python3.6/dist-packages/pyquil/api/_compiler.py:242: UserWarning: No quilc server reachable at tcp://127.0.0.1:5555. Compilation using quilc will not be available.\n",
            "  warnings.warn(f\"{e}. Compilation using quilc will not be available.\")\n"
          ],
          "name": "stderr"
        },
        {
          "output_type": "display_data",
          "data": {
            "image/png": "[encoded data removed]",
            "text/plain": [
              "<Figure size 432x288 with 1 Axes>"
            ]
          },
          "metadata": {
            "tags": []
          }
        }
      ]
    },
    {
      "cell_type": "markdown",
      "metadata": {
        "id": "_ca6iJzqcNFl",
        "colab_type": "text"
      },
      "source": [
        "#### Exercise 3.1:\n",
        "\n",
        "Current QPU generations are often referred to as Noisy-Intermediate Scale Quantum (NISQ) hardware. This name stems from the fact that the QPUs are suffering from quite a lot of noise and relatively low decoherence times. Try and retrieve the T1 and T2 decoherence times of the Aspen-8 chip! What's the maximum decoherence time in seconds on this chip?"
      ]
    },
    {
      "cell_type": "code",
      "metadata": {
        "id": "1eJWi1rycM2w",
        "colab_type": "code",
        "colab": {
          "base_uri": "https://localhost:8080/",
          "height": 52
        },
        "outputId": "ad2be0d3-58d7-4f1b-833b-b6cd70e2d675"
      },
      "source": [
        "specs = aspen8.device.get_specs()\n",
        "\n",
        "print('Maximum T1: ', max(specs.T1s().values()))\n",
        "print('Maximum T2: ', max(specs.T2s().values()))"
      ],
      "execution_count": 212,
      "outputs": [
        {
          "output_type": "stream",
          "text": [
            "Maximum T1:  4.49720104298557e-05\n",
            "Maximum T2:  5.67804436605542e-05\n"
          ],
          "name": "stdout"
        }
      ]
    },
    {
      "cell_type": "markdown",
      "metadata": {
        "colab_type": "text",
        "id": "oYyEK7raMPJQ"
      },
      "source": [
        "***\n",
        "## 4. Quantum compilation"
      ]
    },
    {
      "cell_type": "markdown",
      "metadata": {
        "id": "zSdWYnVfJN5e",
        "colab_type": "text"
      },
      "source": [
        "By now you know how to write a quantum program in PyQuil and you successfully retrieved the Aspen-8 QPU. It's time to run some code on it! For the purpose of this tutorial we will have to use a simulated version of the Aspen-8 processor:"
      ]
    },
    {
      "cell_type": "code",
      "metadata": {
        "id": "w64AI4VCJPLr",
        "colab_type": "code",
        "colab": {}
      },
      "source": [
        "from pyquil.api import QVMCompiler\n",
        "\n",
        "aspen8 = get_qc('Aspen-8', connection=connection, as_qvm=True)"
      ],
      "execution_count": 0,
      "outputs": []
    },
    {
      "cell_type": "markdown",
      "metadata": {
        "id": "fMsHYGd0hvFA",
        "colab_type": "text"
      },
      "source": [
        "#### Exercise 4.0:\n",
        "\n",
        "Write the following circuit as a quantum program:\n",
        "\n",
        "\n",
        "![](https://i.ibb.co/7pxPTC3/Screenshot-from-2020-06-03-00-56-51.png)\n",
        "\n",
        "Make sure that you don't forget to measure all the qubits at the end (not included in the diagram above)."
      ]
    },
    {
      "cell_type": "code",
      "metadata": {
        "id": "jOAZOrzud0Eo",
        "colab_type": "code",
        "colab": {
          "base_uri": "https://localhost:8080/",
          "height": 34
        },
        "outputId": "fcb31e64-bd27-49ed-aba2-ab9d8f161155"
      },
      "source": [
        "program = Program()\n",
        "ro = program.declare('ro', 'BIT', 3)\n",
        "program.inst(H(0))\n",
        "program.inst(H(1))\n",
        "program.inst(X(2))\n",
        "program.inst(H(2))\n",
        "program.inst(H(1))\n",
        "program.inst(Y(2))\n",
        "program.inst(CNOT(1, 2))\n",
        "program.inst(H(2))\n",
        "program.inst(Z(0))\n",
        "program.inst(H(0))\n",
        "program.inst(H(1))\n",
        "program.inst(X(2))\n",
        "program.inst(MEASURE(0, ro[0]))\n",
        "program.inst(MEASURE(1, ro[1]))\n",
        "program.inst(MEASURE(2, ro[2]))"
      ],
      "execution_count": 214,
      "outputs": [
        {
          "output_type": "execute_result",
          "data": {
            "text/plain": [
              "<pyquil.quil.Program at 0x7f9906e1cda0>"
            ]
          },
          "metadata": {
            "tags": []
          },
          "execution_count": 214
        }
      ]
    },
    {
      "cell_type": "markdown",
      "metadata": {
        "id": "1ZoMaEl-kLof",
        "colab_type": "text"
      },
      "source": [
        "#### Exercise 4.1:\n",
        "\n",
        "Try running your new program on the `aspen8` using the `run()` method. Carefully read the error message. What's the problem?"
      ]
    },
    {
      "cell_type": "code",
      "metadata": {
        "id": "BRDQppoIkUqA",
        "colab_type": "code",
        "colab": {
          "base_uri": "https://localhost:8080/",
          "height": 332
        },
        "outputId": "b6690fdf-d7d7-42b8-8e9e-28ad618f2e57"
      },
      "source": [
        "aspen8.run(program)"
      ],
      "execution_count": 215,
      "outputs": [
        {
          "output_type": "error",
          "ename": "TypeError",
          "evalue": "ignored",
          "traceback": [
            "\u001b[0;31m---------------------------------------------------------------------------\u001b[0m",
            "\u001b[0;31mTypeError\u001b[0m                                 Traceback (most recent call last)",
            "\u001b[0;32m<ipython-input-215-63bdfef1986d>\u001b[0m in \u001b[0;36m<module>\u001b[0;34m()\u001b[0m\n\u001b[0;32m----> 1\u001b[0;31m \u001b[0maspen8\u001b[0m\u001b[0;34m.\u001b[0m\u001b[0mrun\u001b[0m\u001b[0;34m(\u001b[0m\u001b[0mprogram\u001b[0m\u001b[0;34m)\u001b[0m\u001b[0;34m\u001b[0m\u001b[0;34m\u001b[0m\u001b[0m\n\u001b[0m",
            "\u001b[0;32m/usr/local/lib/python3.6/dist-packages/pyquil/api/_error_reporting.py\u001b[0m in \u001b[0;36mwrapper\u001b[0;34m(*args, **kwargs)\u001b[0m\n\u001b[1;32m    249\u001b[0m             \u001b[0mglobal_error_context\u001b[0m\u001b[0;34m.\u001b[0m\u001b[0mlog\u001b[0m\u001b[0;34m[\u001b[0m\u001b[0mkey\u001b[0m\u001b[0;34m]\u001b[0m \u001b[0;34m=\u001b[0m \u001b[0mpre_entry\u001b[0m\u001b[0;34m\u001b[0m\u001b[0;34m\u001b[0m\u001b[0m\n\u001b[1;32m    250\u001b[0m \u001b[0;34m\u001b[0m\u001b[0m\n\u001b[0;32m--> 251\u001b[0;31m         \u001b[0mval\u001b[0m \u001b[0;34m=\u001b[0m \u001b[0mfunc\u001b[0m\u001b[0;34m(\u001b[0m\u001b[0;34m*\u001b[0m\u001b[0margs\u001b[0m\u001b[0;34m,\u001b[0m \u001b[0;34m**\u001b[0m\u001b[0mkwargs\u001b[0m\u001b[0;34m)\u001b[0m\u001b[0;34m\u001b[0m\u001b[0;34m\u001b[0m\u001b[0m\n\u001b[0m\u001b[1;32m    252\u001b[0m \u001b[0;34m\u001b[0m\u001b[0m\n\u001b[1;32m    253\u001b[0m         \u001b[0;31m# poke the return value of that call in\u001b[0m\u001b[0;34m\u001b[0m\u001b[0;34m\u001b[0m\u001b[0;34m\u001b[0m\u001b[0m\n",
            "\u001b[0;32m/usr/local/lib/python3.6/dist-packages/pyquil/api/_quantum_computer.py\u001b[0m in \u001b[0;36mrun\u001b[0;34m(self, executable, memory_map)\u001b[0m\n\u001b[1;32m    131\u001b[0m         \u001b[0;34m:\u001b[0m\u001b[0;32mreturn\u001b[0m\u001b[0;34m:\u001b[0m \u001b[0mA\u001b[0m \u001b[0mnumpy\u001b[0m \u001b[0marray\u001b[0m \u001b[0mof\u001b[0m \u001b[0mshape\u001b[0m \u001b[0;34m(\u001b[0m\u001b[0mtrials\u001b[0m\u001b[0;34m,\u001b[0m \u001b[0mlen\u001b[0m\u001b[0;34m(\u001b[0m\u001b[0mro\u001b[0m\u001b[0;34m-\u001b[0m\u001b[0mregister\u001b[0m\u001b[0;34m)\u001b[0m\u001b[0;34m)\u001b[0m \u001b[0mthat\u001b[0m \u001b[0mcontains\u001b[0m \u001b[0;36m0\u001b[0m\u001b[0ms\u001b[0m \u001b[0;32mand\u001b[0m \u001b[0;36m1\u001b[0m\u001b[0ms\u001b[0m\u001b[0;34m.\u001b[0m\u001b[0;34m\u001b[0m\u001b[0;34m\u001b[0m\u001b[0m\n\u001b[1;32m    132\u001b[0m         \"\"\"\n\u001b[0;32m--> 133\u001b[0;31m         \u001b[0mself\u001b[0m\u001b[0;34m.\u001b[0m\u001b[0mqam\u001b[0m\u001b[0;34m.\u001b[0m\u001b[0mload\u001b[0m\u001b[0;34m(\u001b[0m\u001b[0mexecutable\u001b[0m\u001b[0;34m)\u001b[0m\u001b[0;34m\u001b[0m\u001b[0;34m\u001b[0m\u001b[0m\n\u001b[0m\u001b[1;32m    134\u001b[0m         \u001b[0;32mif\u001b[0m \u001b[0mmemory_map\u001b[0m\u001b[0;34m:\u001b[0m\u001b[0;34m\u001b[0m\u001b[0;34m\u001b[0m\u001b[0m\n\u001b[1;32m    135\u001b[0m             \u001b[0;32mfor\u001b[0m \u001b[0mregion_name\u001b[0m\u001b[0;34m,\u001b[0m \u001b[0mvalues_list\u001b[0m \u001b[0;32min\u001b[0m \u001b[0mmemory_map\u001b[0m\u001b[0;34m.\u001b[0m\u001b[0mitems\u001b[0m\u001b[0;34m(\u001b[0m\u001b[0;34m)\u001b[0m\u001b[0;34m:\u001b[0m\u001b[0;34m\u001b[0m\u001b[0;34m\u001b[0m\u001b[0m\n",
            "\u001b[0;32m/usr/local/lib/python3.6/dist-packages/pyquil/api/_error_reporting.py\u001b[0m in \u001b[0;36mwrapper\u001b[0;34m(*args, **kwargs)\u001b[0m\n\u001b[1;32m    249\u001b[0m             \u001b[0mglobal_error_context\u001b[0m\u001b[0;34m.\u001b[0m\u001b[0mlog\u001b[0m\u001b[0;34m[\u001b[0m\u001b[0mkey\u001b[0m\u001b[0;34m]\u001b[0m \u001b[0;34m=\u001b[0m \u001b[0mpre_entry\u001b[0m\u001b[0;34m\u001b[0m\u001b[0;34m\u001b[0m\u001b[0m\n\u001b[1;32m    250\u001b[0m \u001b[0;34m\u001b[0m\u001b[0m\n\u001b[0;32m--> 251\u001b[0;31m         \u001b[0mval\u001b[0m \u001b[0;34m=\u001b[0m \u001b[0mfunc\u001b[0m\u001b[0;34m(\u001b[0m\u001b[0;34m*\u001b[0m\u001b[0margs\u001b[0m\u001b[0;34m,\u001b[0m \u001b[0;34m**\u001b[0m\u001b[0mkwargs\u001b[0m\u001b[0;34m)\u001b[0m\u001b[0;34m\u001b[0m\u001b[0;34m\u001b[0m\u001b[0m\n\u001b[0m\u001b[1;32m    252\u001b[0m \u001b[0;34m\u001b[0m\u001b[0m\n\u001b[1;32m    253\u001b[0m         \u001b[0;31m# poke the return value of that call in\u001b[0m\u001b[0;34m\u001b[0m\u001b[0;34m\u001b[0m\u001b[0;34m\u001b[0m\u001b[0m\n",
            "\u001b[0;32m/usr/local/lib/python3.6/dist-packages/pyquil/api/_qvm.py\u001b[0m in \u001b[0;36mload\u001b[0;34m(self, executable)\u001b[0m\n\u001b[1;32m    522\u001b[0m             \u001b[0;32melse\u001b[0m\u001b[0;34m:\u001b[0m\u001b[0;34m\u001b[0m\u001b[0;34m\u001b[0m\u001b[0m\n\u001b[1;32m    523\u001b[0m                 raise TypeError(\n\u001b[0;32m--> 524\u001b[0;31m                     \u001b[0;34m\"`executable` argument must be a `PyQuilExecutableResponse`. Make \"\u001b[0m\u001b[0;34m\u001b[0m\u001b[0;34m\u001b[0m\u001b[0m\n\u001b[0m\u001b[1;32m    525\u001b[0m                     \u001b[0;34m\"sure you have explicitly compiled your program via `qc.compile` \"\u001b[0m\u001b[0;34m\u001b[0m\u001b[0;34m\u001b[0m\u001b[0m\n\u001b[1;32m    526\u001b[0m                     \u001b[0;34m\"or `qc.compiler.native_quil_to_executable(...)` for more \"\u001b[0m\u001b[0;34m\u001b[0m\u001b[0;34m\u001b[0m\u001b[0m\n",
            "\u001b[0;31mTypeError\u001b[0m: `executable` argument must be a `PyQuilExecutableResponse`. Make sure you have explicitly compiled your program via `qc.compile` or `qc.compiler.native_quil_to_executable(...)` for more fine-grained control. This explicit step is required for running on a QPU."
          ]
        }
      ]
    },
    {
      "cell_type": "markdown",
      "metadata": {
        "id": "sDpbRvrckU2E",
        "colab_type": "text"
      },
      "source": [
        "#### Exercise 4.2:\n",
        "\n",
        "In order to run the program on the Aspen-8 we need to first compile it to the Aspen-8 architecture. This has to do with the fact that the topology (see Exercise 3.0) might not allow certain operations e.g. CNOTs between qubits that are not neighbouring on the quantum processor.\n",
        "\n",
        "Figure out how to compile the quantum program to the Aspen-8 architecture. Then do the following:\n",
        "\n",
        "- print your initial non-compiled program and the compiled program. which one is longer?\n",
        "- run the compiled program on the Aspen-8 simulator and retrieve 100 results"
      ]
    },
    {
      "cell_type": "code",
      "metadata": {
        "id": "wF-OQIsqkLLN",
        "colab_type": "code",
        "colab": {
          "base_uri": "https://localhost:8080/",
          "height": 278
        },
        "outputId": "8abaac41-8c8c-451a-c643-0384a4380396"
      },
      "source": [
        "compiler_response = aspen8.compile(program)\n",
        "print(compiler_response.program)\n",
        "bitstrings = np.vstack([aspen8.run(compiler_response) for _ in range(100)])\n",
        "\n",
        "unique_bitstrings, counts = np.unique(bitstrings, axis=0, return_counts=True)\n",
        "for unique_bitstring, count in zip(unique_bitstrings, counts):\n",
        "  unique_bitstring = np.array(map(str, unique_bitstring))\n",
        "  print(f\"|{''.join(unique_bitstring.tolist())}>: {count/sum(counts)}\")"
      ],
      "execution_count": 216,
      "outputs": [
        {
          "output_type": "stream",
          "text": [
            "DECLARE ro BIT[3]\n",
            "RX(pi) 32\n",
            "MEASURE 32 ro[0]\n",
            "RZ(pi) 22\n",
            "RX(pi) 22\n",
            "CZ 22 35\n",
            "RZ(-pi/2) 35\n",
            "RX(pi/2) 35\n",
            "RZ(pi/2) 35\n",
            "MEASURE 35 ro[1]\n",
            "MEASURE 22 ro[2]\n",
            "HALT\n",
            "\n",
            "|101>: 0.45\n",
            "|111>: 0.55\n"
          ],
          "name": "stdout"
        }
      ]
    },
    {
      "cell_type": "markdown",
      "metadata": {
        "colab_type": "text",
        "id": "4IRfDMhvkkgv"
      },
      "source": [
        "#### Bonus exercise 4.3:\n",
        "\n",
        "Remove the measurements from the program and plot the wavefunction of the resulting quantum state. Double check your results from the QPU. Do they align?"
      ]
    },
    {
      "cell_type": "code",
      "metadata": {
        "id": "aXidnUNPkmqn",
        "colab_type": "code",
        "colab": {
          "base_uri": "https://localhost:8080/",
          "height": 265
        },
        "outputId": "a385db1a-e63d-4f90-e8f6-94d25f3f5400"
      },
      "source": [
        "program_without_measurements = program.copy()\n",
        "program_without_measurements.pop()\n",
        "program_without_measurements.pop()\n",
        "program_without_measurements.pop()\n",
        "\n",
        "wavefunction_simulator.wavefunction(program_without_measurements).plot()"
      ],
      "execution_count": 217,
      "outputs": [
        {
          "output_type": "display_data",
          "data": {
            "image/png": "[encoded data removed]",
            "text/plain": [
              "<Figure size 432x288 with 1 Axes>"
            ]
          },
          "metadata": {
            "tags": [],
            "needs_background": "light"
          }
        }
      ]
    },
    {
      "cell_type": "markdown",
      "metadata": {
        "colab_type": "text",
        "id": "N4aRN8LxJNSZ"
      },
      "source": [
        "***\n",
        "## 5. Bonus section: Quantum state preparation"
      ]
    },
    {
      "cell_type": "markdown",
      "metadata": {
        "id": "ncTaUCIKEOaF",
        "colab_type": "text"
      },
      "source": [
        "The goal of quantum state preparation is the ability to generate quantum states with arbitrary amplitude distributions. Formally speaking, given a complex non-zero amplitude vector $\\mathbf{a} \\in \\mathbb{C}^N$ with components $a_i$ find an algorithm that takes the initial state $\\ket{0}^{\\otimes \\log_2 N}$ and outputs the following state:\n",
        "$$\\ket{\\Psi} = \\sum^{N-1}_{i=0} \\frac{a_i}{\\mid \\mathbf{a} \\mid} \\ket{i}$$\n",
        "where $\\ket{i}$ stands for $i$ in its binary representation."
      ]
    },
    {
      "cell_type": "markdown",
      "metadata": {
        "id": "r-oVT0brEOaH",
        "colab_type": "text"
      },
      "source": [
        "#### Exercise 5.0:\n",
        "Design and implement a quantum circuit that initializes the following quantum state:\n",
        "\n",
        "$$ \\ket{\\Psi} = \\frac{-i}{2} \\, \\ket{00} - \\frac{i}{2} \\, \\ket{01} + \\frac{i}{2} \\, \\ket{10} + \\frac{i}{2} \\,\\ket{11} $$\n",
        "\n",
        "<a title=\"Use pyQuil's wavefunction functionality to print the prepared quantum state.\">Hint.</a>"
      ]
    },
    {
      "cell_type": "code",
      "metadata": {
        "id": "wFMleGIFEOaI",
        "colab_type": "code",
        "colab": {
          "base_uri": "https://localhost:8080/",
          "height": 34
        },
        "outputId": "2eefb891-9524-4b2d-d1c5-0efa554b40e2"
      },
      "source": [
        "from pyquil.gates import H, Y\n",
        "from pyquil.quil import Program\n",
        "\n",
        "p = Program()\n",
        "\n",
        "# TODO: initialize the quantum state with quantum gates\n",
        "p.inst(H(0), H(1), Y(1))\n",
        "\n",
        "print(wavefunction_simulator.wavefunction(p))"
      ],
      "execution_count": 218,
      "outputs": [
        {
          "output_type": "stream",
          "text": [
            "-0.5j|00> + -0.5j|01> + 0.5j|10> + 0.5j|11>\n"
          ],
          "name": "stdout"
        }
      ]
    },
    {
      "cell_type": "markdown",
      "metadata": {
        "id": "Ca4Oc_4vEOae",
        "colab_type": "text"
      },
      "source": [
        "***\n",
        "## 6. Bonus section: Rigetti's Grove algorithms library"
      ]
    },
    {
      "cell_type": "markdown",
      "metadata": {
        "id": "C-U3b1t5EOaf",
        "colab_type": "text"
      },
      "source": [
        "There is several algorithms for quantum state preparation in the literature. For example, see [1](https://arxiv.org/pdf/1706.02721.pdf), [2](https://journals.aps.org/pra/abstract/10.1103/PhysRevA.73.012307), [3](https://journals.aps.org/prl/abstract/10.1103/PhysRevLett.87.067901), [4](https://arxiv.org/abs/quant-ph/0208112) and [5](https://link.springer.com/article/10.1023/A:1021695125245). You should definitely read them at some point since they offer great insight into the difficulties involved with quantum state preparation. As you will see, each of these algorithms comes with it tradeoffs and you will eventually figure out which one fits your needs. Also keep in mind that near-term quantum computers limit the number of quantum gate operations you can perform due to decoherence (also called **quantum circuit depth**). Most of the above algorithms will have extensive resource requirements to ensure generality which will probably force you to do manual state preparation in order to ensure maximum efficiency."
      ]
    },
    {
      "cell_type": "markdown",
      "metadata": {
        "id": "0X0IUPXzEOak",
        "colab_type": "text"
      },
      "source": [
        "At this point, we need to install [Grove](https://github.com/rigetticomputing/grove) - a Python library with plenty of quantum algorithms implemented in [pyQuil](https://github.com/rigetticomputing/pyquil). I highly recommend you to check out the Grove documentation since it is a great resource to learn about the individual quantum algorithms and their implementations!"
      ]
    },
    {
      "cell_type": "code",
      "metadata": {
        "id": "EJ20QRytEOap",
        "colab_type": "code",
        "colab": {
          "base_uri": "https://localhost:8080/",
          "height": 645
        },
        "outputId": "66ddbe1a-d514-4e4c-8e41-2195f7fb80db"
      },
      "source": [
        "!pip install git+https://github.com/rigetticomputing/grove"
      ],
      "execution_count": 219,
      "outputs": [
        {
          "output_type": "stream",
          "text": [
            "Collecting git+https://github.com/rigetticomputing/grove\n",
            "  Cloning https://github.com/rigetticomputing/grove to /tmp/pip-req-build-b4olv2jk\n",
            "  Running command git clone -q https://github.com/rigetticomputing/grove /tmp/pip-req-build-b4olv2jk\n",
            "Requirement already satisfied (use --upgrade to upgrade): quantum-grove==2.0.0b0 from git+https://github.com/rigetticomputing/grove in /usr/local/lib/python3.6/dist-packages\n",
            "Requirement already satisfied: numpy in /usr/local/lib/python3.6/dist-packages (from quantum-grove==2.0.0b0) (1.18.4)\n",
            "Requirement already satisfied: scipy in /usr/local/lib/python3.6/dist-packages (from quantum-grove==2.0.0b0) (1.4.1)\n",
            "Requirement already satisfied: pyquil>=2.0.0 in /usr/local/lib/python3.6/dist-packages (from quantum-grove==2.0.0b0) (2.19.0)\n",
            "Requirement already satisfied: funcsigs in /usr/local/lib/python3.6/dist-packages (from quantum-grove==2.0.0b0) (1.0.2)\n",
            "Requirement already satisfied: mock in /usr/local/lib/python3.6/dist-packages (from quantum-grove==2.0.0b0) (4.0.2)\n",
            "Requirement already satisfied: networkx in /usr/local/lib/python3.6/dist-packages (from quantum-grove==2.0.0b0) (2.4)\n",
            "Requirement already satisfied: matplotlib in /usr/local/lib/python3.6/dist-packages (from quantum-grove==2.0.0b0) (3.2.1)\n",
            "Requirement already satisfied: rpcq>=3.0.0 in /usr/local/lib/python3.6/dist-packages (from pyquil>=2.0.0->quantum-grove==2.0.0b0) (3.3.0)\n",
            "Requirement already satisfied: immutables==0.6 in /usr/local/lib/python3.6/dist-packages (from pyquil>=2.0.0->quantum-grove==2.0.0b0) (0.6)\n",
            "Requirement already satisfied: requests in /usr/local/lib/python3.6/dist-packages (from pyquil>=2.0.0->quantum-grove==2.0.0b0) (2.23.0)\n",
            "Requirement already satisfied: antlr4-python3-runtime<4.8,>=4.7.2 in /usr/local/lib/python3.6/dist-packages (from pyquil>=2.0.0->quantum-grove==2.0.0b0) (4.7.2)\n",
            "Requirement already satisfied: decorator>=4.3.0 in /usr/local/lib/python3.6/dist-packages (from networkx->quantum-grove==2.0.0b0) (4.4.2)\n",
            "Requirement already satisfied: cycler>=0.10 in /usr/local/lib/python3.6/dist-packages (from matplotlib->quantum-grove==2.0.0b0) (0.10.0)\n",
            "Requirement already satisfied: python-dateutil>=2.1 in /usr/local/lib/python3.6/dist-packages (from matplotlib->quantum-grove==2.0.0b0) (2.8.1)\n",
            "Requirement already satisfied: kiwisolver>=1.0.1 in /usr/local/lib/python3.6/dist-packages (from matplotlib->quantum-grove==2.0.0b0) (1.2.0)\n",
            "Requirement already satisfied: pyparsing!=2.0.4,!=2.1.2,!=2.1.6,>=2.0.1 in /usr/local/lib/python3.6/dist-packages (from matplotlib->quantum-grove==2.0.0b0) (2.4.7)\n",
            "Requirement already satisfied: msgpack<1.0,>=0.6 in /usr/local/lib/python3.6/dist-packages (from rpcq>=3.0.0->pyquil>=2.0.0->quantum-grove==2.0.0b0) (0.6.2)\n",
            "Requirement already satisfied: python-rapidjson in /usr/local/lib/python3.6/dist-packages (from rpcq>=3.0.0->pyquil>=2.0.0->quantum-grove==2.0.0b0) (0.9.1)\n",
            "Requirement already satisfied: ruamel.yaml in /usr/local/lib/python3.6/dist-packages (from rpcq>=3.0.0->pyquil>=2.0.0->quantum-grove==2.0.0b0) (0.16.10)\n",
            "Requirement already satisfied: pyzmq>=17 in /usr/local/lib/python3.6/dist-packages (from rpcq>=3.0.0->pyquil>=2.0.0->quantum-grove==2.0.0b0) (19.0.1)\n",
            "Requirement already satisfied: certifi>=2017.4.17 in /usr/local/lib/python3.6/dist-packages (from requests->pyquil>=2.0.0->quantum-grove==2.0.0b0) (2020.4.5.1)\n",
            "Requirement already satisfied: urllib3!=1.25.0,!=1.25.1,<1.26,>=1.21.1 in /usr/local/lib/python3.6/dist-packages (from requests->pyquil>=2.0.0->quantum-grove==2.0.0b0) (1.24.3)\n",
            "Requirement already satisfied: idna<3,>=2.5 in /usr/local/lib/python3.6/dist-packages (from requests->pyquil>=2.0.0->quantum-grove==2.0.0b0) (2.9)\n",
            "Requirement already satisfied: chardet<4,>=3.0.2 in /usr/local/lib/python3.6/dist-packages (from requests->pyquil>=2.0.0->quantum-grove==2.0.0b0) (3.0.4)\n",
            "Requirement already satisfied: six in /usr/local/lib/python3.6/dist-packages (from cycler>=0.10->matplotlib->quantum-grove==2.0.0b0) (1.12.0)\n",
            "Requirement already satisfied: ruamel.yaml.clib>=0.1.2; platform_python_implementation == \"CPython\" and python_version < \"3.9\" in /usr/local/lib/python3.6/dist-packages (from ruamel.yaml->rpcq>=3.0.0->pyquil>=2.0.0->quantum-grove==2.0.0b0) (0.2.0)\n",
            "Building wheels for collected packages: quantum-grove\n",
            "  Building wheel for quantum-grove (setup.py) ... \u001b[?25l\u001b[?25hdone\n",
            "  Created wheel for quantum-grove: filename=quantum_grove-2.0.0b0-cp36-none-any.whl size=95061 sha256=d903a134c3bf6e370faa646ec5f33a37a9d7cbfd5462523e31733a8b5f2a220d\n",
            "  Stored in directory: /tmp/pip-ephem-wheel-cache-igf7zhqo/wheels/c4/4c/d0/aeba3b8fa052232bed7758ab80e74ec5252bd339c7ae5f8111\n",
            "Successfully built quantum-grove\n"
          ],
          "name": "stdout"
        }
      ]
    },
    {
      "cell_type": "markdown",
      "metadata": {
        "id": "luSD7WQrEOav",
        "colab_type": "text"
      },
      "source": [
        "#### Exercise 6.0:\n",
        "Use Grove's arbitrary state generation algorithm to generate the circuit for the quantum state in Exercise 5.0!"
      ]
    },
    {
      "cell_type": "code",
      "metadata": {
        "id": "amn2t1-kEOaw",
        "colab_type": "code",
        "colab": {
          "base_uri": "https://localhost:8080/",
          "height": 278
        },
        "outputId": "7e2bd52e-2b2d-432a-aa8c-41394585a26b"
      },
      "source": [
        "# TODO: Use Grove to generate circuits\n",
        "from grove.alpha.arbitrary_state.arbitrary_state import create_arbitrary_state\n",
        "\n",
        "# generating circuit for quantum state from exercise 3.0\n",
        "amplitude_vector = [-1j/2, -1j/2, 1j/2, 1j/2]\n",
        "p = create_arbitrary_state(amplitude_vector)\n",
        "print(f'Generated wavefunction for exercise 3.0: \\n{wavefunction_simulator.wavefunction(p)} \\n')\n",
        "print(f'Quantum circuit used to generate the state: \\n{p}')"
      ],
      "execution_count": 220,
      "outputs": [
        {
          "output_type": "stream",
          "text": [
            "Generated wavefunction for exercise 3.0: \n",
            "-0.5j|00> + -0.5j|01> + 0.5j|10> + 0.5j|11> \n",
            "\n",
            "Quantum circuit used to generate the state: \n",
            "RZ(0) 0\n",
            "PHASE(0) 0\n",
            "H 0\n",
            "H 1\n",
            "RZ(pi) 0\n",
            "SWAP 0 1\n",
            "CNOT 1 0\n",
            "CNOT 1 0\n",
            "CNOT 1 0\n",
            "CNOT 1 0\n",
            "\n"
          ],
          "name": "stdout"
        }
      ]
    },
    {
      "cell_type": "markdown",
      "metadata": {
        "id": "aeTM2NRQEOa7",
        "colab_type": "text"
      },
      "source": [
        "#### Exercise 6.1:\n",
        "Print the generated circuit in Exercise 6.0 and compare it with the circuit that you designed by hand in exercise 5.0. Were you doing better or worse in terms of quantum circuit depth?"
      ]
    }
  ]
}